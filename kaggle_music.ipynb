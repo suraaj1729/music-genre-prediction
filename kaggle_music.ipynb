{
 "cells": [
  {
   "cell_type": "code",
   "execution_count": 1,
   "metadata": {},
   "outputs": [],
   "source": [
    "# importing modules\n",
    "import numpy as np\n",
    "import pandas as pd\n",
    "import tensorflow as tf\n",
    "from tensorflow import keras"
   ]
  },
  {
   "cell_type": "code",
   "execution_count": 2,
   "metadata": {},
   "outputs": [
    {
     "data": {
      "text/html": [
       "<div>\n",
       "<style scoped>\n",
       "    .dataframe tbody tr th:only-of-type {\n",
       "        vertical-align: middle;\n",
       "    }\n",
       "\n",
       "    .dataframe tbody tr th {\n",
       "        vertical-align: top;\n",
       "    }\n",
       "\n",
       "    .dataframe thead th {\n",
       "        text-align: right;\n",
       "    }\n",
       "</style>\n",
       "<table border=\"1\" class=\"dataframe\">\n",
       "  <thead>\n",
       "    <tr style=\"text-align: right;\">\n",
       "      <th></th>\n",
       "      <th>Artist Name</th>\n",
       "      <th>Track Name</th>\n",
       "      <th>Popularity</th>\n",
       "      <th>danceability</th>\n",
       "      <th>energy</th>\n",
       "      <th>key</th>\n",
       "      <th>loudness</th>\n",
       "      <th>mode</th>\n",
       "      <th>speechiness</th>\n",
       "      <th>acousticness</th>\n",
       "      <th>instrumentalness</th>\n",
       "      <th>liveness</th>\n",
       "      <th>valence</th>\n",
       "      <th>tempo</th>\n",
       "      <th>duration_in min/ms</th>\n",
       "      <th>time_signature</th>\n",
       "      <th>Class</th>\n",
       "    </tr>\n",
       "  </thead>\n",
       "  <tbody>\n",
       "    <tr>\n",
       "      <th>0</th>\n",
       "      <td>Bruno Mars</td>\n",
       "      <td>That's What I Like (feat. Gucci Mane)</td>\n",
       "      <td>60.0</td>\n",
       "      <td>0.854</td>\n",
       "      <td>0.564</td>\n",
       "      <td>1.0</td>\n",
       "      <td>-4.964</td>\n",
       "      <td>1</td>\n",
       "      <td>0.0485</td>\n",
       "      <td>0.017100</td>\n",
       "      <td>NaN</td>\n",
       "      <td>0.0849</td>\n",
       "      <td>0.8990</td>\n",
       "      <td>134.071</td>\n",
       "      <td>234596.0</td>\n",
       "      <td>4</td>\n",
       "      <td>5</td>\n",
       "    </tr>\n",
       "    <tr>\n",
       "      <th>1</th>\n",
       "      <td>Boston</td>\n",
       "      <td>Hitch a Ride</td>\n",
       "      <td>54.0</td>\n",
       "      <td>0.382</td>\n",
       "      <td>0.814</td>\n",
       "      <td>3.0</td>\n",
       "      <td>-7.230</td>\n",
       "      <td>1</td>\n",
       "      <td>0.0406</td>\n",
       "      <td>0.001100</td>\n",
       "      <td>0.004010</td>\n",
       "      <td>0.1010</td>\n",
       "      <td>0.5690</td>\n",
       "      <td>116.454</td>\n",
       "      <td>251733.0</td>\n",
       "      <td>4</td>\n",
       "      <td>10</td>\n",
       "    </tr>\n",
       "    <tr>\n",
       "      <th>2</th>\n",
       "      <td>The Raincoats</td>\n",
       "      <td>No Side to Fall In</td>\n",
       "      <td>35.0</td>\n",
       "      <td>0.434</td>\n",
       "      <td>0.614</td>\n",
       "      <td>6.0</td>\n",
       "      <td>-8.334</td>\n",
       "      <td>1</td>\n",
       "      <td>0.0525</td>\n",
       "      <td>0.486000</td>\n",
       "      <td>0.000196</td>\n",
       "      <td>0.3940</td>\n",
       "      <td>0.7870</td>\n",
       "      <td>147.681</td>\n",
       "      <td>109667.0</td>\n",
       "      <td>4</td>\n",
       "      <td>6</td>\n",
       "    </tr>\n",
       "    <tr>\n",
       "      <th>3</th>\n",
       "      <td>Deno</td>\n",
       "      <td>Lingo (feat. J.I &amp; Chunkz)</td>\n",
       "      <td>66.0</td>\n",
       "      <td>0.853</td>\n",
       "      <td>0.597</td>\n",
       "      <td>10.0</td>\n",
       "      <td>-6.528</td>\n",
       "      <td>0</td>\n",
       "      <td>0.0555</td>\n",
       "      <td>0.021200</td>\n",
       "      <td>NaN</td>\n",
       "      <td>0.1220</td>\n",
       "      <td>0.5690</td>\n",
       "      <td>107.033</td>\n",
       "      <td>173968.0</td>\n",
       "      <td>4</td>\n",
       "      <td>5</td>\n",
       "    </tr>\n",
       "    <tr>\n",
       "      <th>4</th>\n",
       "      <td>Red Hot Chili Peppers</td>\n",
       "      <td>Nobody Weird Like Me - Remastered</td>\n",
       "      <td>53.0</td>\n",
       "      <td>0.167</td>\n",
       "      <td>0.975</td>\n",
       "      <td>2.0</td>\n",
       "      <td>-4.279</td>\n",
       "      <td>1</td>\n",
       "      <td>0.2160</td>\n",
       "      <td>0.000169</td>\n",
       "      <td>0.016100</td>\n",
       "      <td>0.1720</td>\n",
       "      <td>0.0918</td>\n",
       "      <td>199.060</td>\n",
       "      <td>229960.0</td>\n",
       "      <td>4</td>\n",
       "      <td>10</td>\n",
       "    </tr>\n",
       "  </tbody>\n",
       "</table>\n",
       "</div>"
      ],
      "text/plain": [
       "             Artist Name                             Track Name  Popularity  \\\n",
       "0             Bruno Mars  That's What I Like (feat. Gucci Mane)        60.0   \n",
       "1                 Boston                           Hitch a Ride        54.0   \n",
       "2          The Raincoats                     No Side to Fall In        35.0   \n",
       "3                   Deno             Lingo (feat. J.I & Chunkz)        66.0   \n",
       "4  Red Hot Chili Peppers      Nobody Weird Like Me - Remastered        53.0   \n",
       "\n",
       "   danceability  energy   key  loudness  mode  speechiness  acousticness  \\\n",
       "0         0.854   0.564   1.0    -4.964     1       0.0485      0.017100   \n",
       "1         0.382   0.814   3.0    -7.230     1       0.0406      0.001100   \n",
       "2         0.434   0.614   6.0    -8.334     1       0.0525      0.486000   \n",
       "3         0.853   0.597  10.0    -6.528     0       0.0555      0.021200   \n",
       "4         0.167   0.975   2.0    -4.279     1       0.2160      0.000169   \n",
       "\n",
       "   instrumentalness  liveness  valence    tempo  duration_in min/ms  \\\n",
       "0               NaN    0.0849   0.8990  134.071            234596.0   \n",
       "1          0.004010    0.1010   0.5690  116.454            251733.0   \n",
       "2          0.000196    0.3940   0.7870  147.681            109667.0   \n",
       "3               NaN    0.1220   0.5690  107.033            173968.0   \n",
       "4          0.016100    0.1720   0.0918  199.060            229960.0   \n",
       "\n",
       "   time_signature  Class  \n",
       "0               4      5  \n",
       "1               4     10  \n",
       "2               4      6  \n",
       "3               4      5  \n",
       "4               4     10  "
      ]
     },
     "execution_count": 2,
     "metadata": {},
     "output_type": "execute_result"
    }
   ],
   "source": [
    "# reading train set\n",
    "df = pd.read_csv(\"train.csv\")\n",
    "df.head()"
   ]
  },
  {
   "cell_type": "code",
   "execution_count": 3,
   "metadata": {},
   "outputs": [
    {
     "data": {
      "text/plain": [
       "Artist Name            object\n",
       "Track Name             object\n",
       "Popularity            float64\n",
       "danceability          float64\n",
       "energy                float64\n",
       "key                   float64\n",
       "loudness              float64\n",
       "mode                    int64\n",
       "speechiness           float64\n",
       "acousticness          float64\n",
       "instrumentalness      float64\n",
       "liveness              float64\n",
       "valence               float64\n",
       "tempo                 float64\n",
       "duration_in min/ms    float64\n",
       "time_signature          int64\n",
       "Class                   int64\n",
       "dtype: object"
      ]
     },
     "execution_count": 3,
     "metadata": {},
     "output_type": "execute_result"
    }
   ],
   "source": [
    "# data types of columns\n",
    "df.dtypes"
   ]
  },
  {
   "cell_type": "code",
   "execution_count": 4,
   "metadata": {},
   "outputs": [],
   "source": [
    "# dropping 2 columns\n",
    "df.drop('Artist Name',axis='columns',inplace=True)\n",
    "df.drop('Track Name',axis='columns',inplace=True)"
   ]
  },
  {
   "cell_type": "code",
   "execution_count": 5,
   "metadata": {},
   "outputs": [
    {
     "data": {
      "text/plain": [
       "Popularity            float64\n",
       "danceability          float64\n",
       "energy                float64\n",
       "key                   float64\n",
       "loudness              float64\n",
       "mode                    int64\n",
       "speechiness           float64\n",
       "acousticness          float64\n",
       "instrumentalness      float64\n",
       "liveness              float64\n",
       "valence               float64\n",
       "tempo                 float64\n",
       "duration_in min/ms    float64\n",
       "time_signature          int64\n",
       "Class                   int64\n",
       "dtype: object"
      ]
     },
     "execution_count": 5,
     "metadata": {},
     "output_type": "execute_result"
    }
   ],
   "source": [
    "# data types of columns\n",
    "df.dtypes"
   ]
  },
  {
   "cell_type": "code",
   "execution_count": 6,
   "metadata": {},
   "outputs": [
    {
     "name": "stdout",
     "output_type": "stream",
     "text": [
      "1.0 100.0\n"
     ]
    }
   ],
   "source": [
    "# min and max value of popularity\n",
    "min_pop = df['Popularity'].min()\n",
    "max_pop = df['Popularity'].max()\n",
    "print(min_pop,max_pop)"
   ]
  },
  {
   "cell_type": "code",
   "execution_count": 7,
   "metadata": {},
   "outputs": [
    {
     "name": "stdout",
     "output_type": "stream",
     "text": [
      "0.01 1.0\n"
     ]
    }
   ],
   "source": [
    "# scaling popularity\n",
    "df['Popularity'] = df['Popularity']/100.0\n",
    "min_pop = df['Popularity'].min()\n",
    "max_pop = df['Popularity'].max()\n",
    "print(min_pop,max_pop)"
   ]
  },
  {
   "cell_type": "code",
   "execution_count": 8,
   "metadata": {},
   "outputs": [],
   "source": [
    "# filling 0 for NaN values\n",
    "df = df.fillna(value = 0)"
   ]
  },
  {
   "cell_type": "code",
   "execution_count": 9,
   "metadata": {},
   "outputs": [
    {
     "name": "stdout",
     "output_type": "stream",
     "text": [
      "0.50165 1477187.0\n"
     ]
    }
   ],
   "source": [
    "# min and max value of duration\n",
    "min_dur = df['duration_in min/ms'].min()\n",
    "max_dur = df['duration_in min/ms'].max()\n",
    "print(min_dur,max_dur)"
   ]
  },
  {
   "cell_type": "code",
   "execution_count": 10,
   "metadata": {},
   "outputs": [
    {
     "name": "stdout",
     "output_type": "stream",
     "text": [
      "5.0165e-06 14.77187\n"
     ]
    }
   ],
   "source": [
    "# scaling duration\n",
    "df['duration_in min/ms'] = df['duration_in min/ms']/100000.0\n",
    "min_dur = df['duration_in min/ms'].min()\n",
    "max_dur = df['duration_in min/ms'].max()\n",
    "print(min_dur,max_dur)"
   ]
  },
  {
   "cell_type": "code",
   "execution_count": 11,
   "metadata": {},
   "outputs": [
    {
     "name": "stdout",
     "output_type": "stream",
     "text": [
      "1 5\n"
     ]
    }
   ],
   "source": [
    "# min and max value of time_signature\n",
    "min_time = df['time_signature'].min()\n",
    "max_time = df['time_signature'].max()\n",
    "print(min_time,max_time)"
   ]
  },
  {
   "cell_type": "code",
   "execution_count": 12,
   "metadata": {},
   "outputs": [
    {
     "data": {
      "text/html": [
       "<div>\n",
       "<style scoped>\n",
       "    .dataframe tbody tr th:only-of-type {\n",
       "        vertical-align: middle;\n",
       "    }\n",
       "\n",
       "    .dataframe tbody tr th {\n",
       "        vertical-align: top;\n",
       "    }\n",
       "\n",
       "    .dataframe thead th {\n",
       "        text-align: right;\n",
       "    }\n",
       "</style>\n",
       "<table border=\"1\" class=\"dataframe\">\n",
       "  <thead>\n",
       "    <tr style=\"text-align: right;\">\n",
       "      <th></th>\n",
       "      <th>Popularity</th>\n",
       "      <th>danceability</th>\n",
       "      <th>energy</th>\n",
       "      <th>key</th>\n",
       "      <th>loudness</th>\n",
       "      <th>mode</th>\n",
       "      <th>speechiness</th>\n",
       "      <th>acousticness</th>\n",
       "      <th>instrumentalness</th>\n",
       "      <th>liveness</th>\n",
       "      <th>valence</th>\n",
       "      <th>tempo</th>\n",
       "      <th>duration_in min/ms</th>\n",
       "      <th>time_signature</th>\n",
       "      <th>Class</th>\n",
       "    </tr>\n",
       "  </thead>\n",
       "  <tbody>\n",
       "    <tr>\n",
       "      <th>0</th>\n",
       "      <td>0.60</td>\n",
       "      <td>0.854</td>\n",
       "      <td>0.564</td>\n",
       "      <td>1.0</td>\n",
       "      <td>-4.964</td>\n",
       "      <td>1</td>\n",
       "      <td>0.0485</td>\n",
       "      <td>0.017100</td>\n",
       "      <td>0.000000</td>\n",
       "      <td>0.0849</td>\n",
       "      <td>0.8990</td>\n",
       "      <td>134.071</td>\n",
       "      <td>2.34596</td>\n",
       "      <td>4</td>\n",
       "      <td>5</td>\n",
       "    </tr>\n",
       "    <tr>\n",
       "      <th>1</th>\n",
       "      <td>0.54</td>\n",
       "      <td>0.382</td>\n",
       "      <td>0.814</td>\n",
       "      <td>3.0</td>\n",
       "      <td>-7.230</td>\n",
       "      <td>1</td>\n",
       "      <td>0.0406</td>\n",
       "      <td>0.001100</td>\n",
       "      <td>0.004010</td>\n",
       "      <td>0.1010</td>\n",
       "      <td>0.5690</td>\n",
       "      <td>116.454</td>\n",
       "      <td>2.51733</td>\n",
       "      <td>4</td>\n",
       "      <td>10</td>\n",
       "    </tr>\n",
       "    <tr>\n",
       "      <th>2</th>\n",
       "      <td>0.35</td>\n",
       "      <td>0.434</td>\n",
       "      <td>0.614</td>\n",
       "      <td>6.0</td>\n",
       "      <td>-8.334</td>\n",
       "      <td>1</td>\n",
       "      <td>0.0525</td>\n",
       "      <td>0.486000</td>\n",
       "      <td>0.000196</td>\n",
       "      <td>0.3940</td>\n",
       "      <td>0.7870</td>\n",
       "      <td>147.681</td>\n",
       "      <td>1.09667</td>\n",
       "      <td>4</td>\n",
       "      <td>6</td>\n",
       "    </tr>\n",
       "    <tr>\n",
       "      <th>3</th>\n",
       "      <td>0.66</td>\n",
       "      <td>0.853</td>\n",
       "      <td>0.597</td>\n",
       "      <td>10.0</td>\n",
       "      <td>-6.528</td>\n",
       "      <td>0</td>\n",
       "      <td>0.0555</td>\n",
       "      <td>0.021200</td>\n",
       "      <td>0.000000</td>\n",
       "      <td>0.1220</td>\n",
       "      <td>0.5690</td>\n",
       "      <td>107.033</td>\n",
       "      <td>1.73968</td>\n",
       "      <td>4</td>\n",
       "      <td>5</td>\n",
       "    </tr>\n",
       "    <tr>\n",
       "      <th>4</th>\n",
       "      <td>0.53</td>\n",
       "      <td>0.167</td>\n",
       "      <td>0.975</td>\n",
       "      <td>2.0</td>\n",
       "      <td>-4.279</td>\n",
       "      <td>1</td>\n",
       "      <td>0.2160</td>\n",
       "      <td>0.000169</td>\n",
       "      <td>0.016100</td>\n",
       "      <td>0.1720</td>\n",
       "      <td>0.0918</td>\n",
       "      <td>199.060</td>\n",
       "      <td>2.29960</td>\n",
       "      <td>4</td>\n",
       "      <td>10</td>\n",
       "    </tr>\n",
       "  </tbody>\n",
       "</table>\n",
       "</div>"
      ],
      "text/plain": [
       "   Popularity  danceability  energy   key  loudness  mode  speechiness  \\\n",
       "0        0.60         0.854   0.564   1.0    -4.964     1       0.0485   \n",
       "1        0.54         0.382   0.814   3.0    -7.230     1       0.0406   \n",
       "2        0.35         0.434   0.614   6.0    -8.334     1       0.0525   \n",
       "3        0.66         0.853   0.597  10.0    -6.528     0       0.0555   \n",
       "4        0.53         0.167   0.975   2.0    -4.279     1       0.2160   \n",
       "\n",
       "   acousticness  instrumentalness  liveness  valence    tempo  \\\n",
       "0      0.017100          0.000000    0.0849   0.8990  134.071   \n",
       "1      0.001100          0.004010    0.1010   0.5690  116.454   \n",
       "2      0.486000          0.000196    0.3940   0.7870  147.681   \n",
       "3      0.021200          0.000000    0.1220   0.5690  107.033   \n",
       "4      0.000169          0.016100    0.1720   0.0918  199.060   \n",
       "\n",
       "   duration_in min/ms  time_signature  Class  \n",
       "0             2.34596               4      5  \n",
       "1             2.51733               4     10  \n",
       "2             1.09667               4      6  \n",
       "3             1.73968               4      5  \n",
       "4             2.29960               4     10  "
      ]
     },
     "execution_count": 12,
     "metadata": {},
     "output_type": "execute_result"
    }
   ],
   "source": [
    "df.head()"
   ]
  },
  {
   "cell_type": "code",
   "execution_count": 13,
   "metadata": {},
   "outputs": [
    {
     "name": "stdout",
     "output_type": "stream",
     "text": [
      "0.0 0.996\n"
     ]
    }
   ],
   "source": [
    "# min and max of instrumentness\n",
    "min_ins = df['instrumentalness'].min()\n",
    "max_ins = df['instrumentalness'].max()\n",
    "print(min_ins,max_ins)"
   ]
  },
  {
   "cell_type": "code",
   "execution_count": 14,
   "metadata": {},
   "outputs": [
    {
     "name": "stdout",
     "output_type": "stream",
     "text": [
      "0.0 99.6\n"
     ]
    }
   ],
   "source": [
    "# scaling instrumentness\n",
    "df['instrumentalness'] = df['instrumentalness']*100\n",
    "min_ins = df['instrumentalness'].min()\n",
    "max_ins = df['instrumentalness'].max()\n",
    "print(min_ins,max_ins)"
   ]
  },
  {
   "cell_type": "code",
   "execution_count": 15,
   "metadata": {},
   "outputs": [
    {
     "name": "stdout",
     "output_type": "stream",
     "text": [
      "0 10\n"
     ]
    }
   ],
   "source": [
    "# min and max of Class\n",
    "min_cls = df['Class'].min()\n",
    "max_cls = df['Class'].max()\n",
    "print(min_cls,max_cls)"
   ]
  },
  {
   "cell_type": "code",
   "execution_count": 16,
   "metadata": {},
   "outputs": [
    {
     "data": {
      "text/html": [
       "<div>\n",
       "<style scoped>\n",
       "    .dataframe tbody tr th:only-of-type {\n",
       "        vertical-align: middle;\n",
       "    }\n",
       "\n",
       "    .dataframe tbody tr th {\n",
       "        vertical-align: top;\n",
       "    }\n",
       "\n",
       "    .dataframe thead th {\n",
       "        text-align: right;\n",
       "    }\n",
       "</style>\n",
       "<table border=\"1\" class=\"dataframe\">\n",
       "  <thead>\n",
       "    <tr style=\"text-align: right;\">\n",
       "      <th></th>\n",
       "      <th>Popularity</th>\n",
       "      <th>danceability</th>\n",
       "      <th>energy</th>\n",
       "      <th>key</th>\n",
       "      <th>loudness</th>\n",
       "      <th>mode</th>\n",
       "      <th>speechiness</th>\n",
       "      <th>acousticness</th>\n",
       "      <th>instrumentalness</th>\n",
       "      <th>liveness</th>\n",
       "      <th>valence</th>\n",
       "      <th>tempo</th>\n",
       "      <th>duration_in min/ms</th>\n",
       "      <th>time_signature</th>\n",
       "      <th>Class</th>\n",
       "    </tr>\n",
       "  </thead>\n",
       "  <tbody>\n",
       "    <tr>\n",
       "      <th>0</th>\n",
       "      <td>0.60</td>\n",
       "      <td>0.854</td>\n",
       "      <td>0.564</td>\n",
       "      <td>1.0</td>\n",
       "      <td>-4.964</td>\n",
       "      <td>1</td>\n",
       "      <td>0.0485</td>\n",
       "      <td>0.017100</td>\n",
       "      <td>0.0000</td>\n",
       "      <td>0.0849</td>\n",
       "      <td>0.8990</td>\n",
       "      <td>134.071</td>\n",
       "      <td>2.34596</td>\n",
       "      <td>4</td>\n",
       "      <td>5</td>\n",
       "    </tr>\n",
       "    <tr>\n",
       "      <th>1</th>\n",
       "      <td>0.54</td>\n",
       "      <td>0.382</td>\n",
       "      <td>0.814</td>\n",
       "      <td>3.0</td>\n",
       "      <td>-7.230</td>\n",
       "      <td>1</td>\n",
       "      <td>0.0406</td>\n",
       "      <td>0.001100</td>\n",
       "      <td>0.4010</td>\n",
       "      <td>0.1010</td>\n",
       "      <td>0.5690</td>\n",
       "      <td>116.454</td>\n",
       "      <td>2.51733</td>\n",
       "      <td>4</td>\n",
       "      <td>10</td>\n",
       "    </tr>\n",
       "    <tr>\n",
       "      <th>2</th>\n",
       "      <td>0.35</td>\n",
       "      <td>0.434</td>\n",
       "      <td>0.614</td>\n",
       "      <td>6.0</td>\n",
       "      <td>-8.334</td>\n",
       "      <td>1</td>\n",
       "      <td>0.0525</td>\n",
       "      <td>0.486000</td>\n",
       "      <td>0.0196</td>\n",
       "      <td>0.3940</td>\n",
       "      <td>0.7870</td>\n",
       "      <td>147.681</td>\n",
       "      <td>1.09667</td>\n",
       "      <td>4</td>\n",
       "      <td>6</td>\n",
       "    </tr>\n",
       "    <tr>\n",
       "      <th>3</th>\n",
       "      <td>0.66</td>\n",
       "      <td>0.853</td>\n",
       "      <td>0.597</td>\n",
       "      <td>10.0</td>\n",
       "      <td>-6.528</td>\n",
       "      <td>0</td>\n",
       "      <td>0.0555</td>\n",
       "      <td>0.021200</td>\n",
       "      <td>0.0000</td>\n",
       "      <td>0.1220</td>\n",
       "      <td>0.5690</td>\n",
       "      <td>107.033</td>\n",
       "      <td>1.73968</td>\n",
       "      <td>4</td>\n",
       "      <td>5</td>\n",
       "    </tr>\n",
       "    <tr>\n",
       "      <th>4</th>\n",
       "      <td>0.53</td>\n",
       "      <td>0.167</td>\n",
       "      <td>0.975</td>\n",
       "      <td>2.0</td>\n",
       "      <td>-4.279</td>\n",
       "      <td>1</td>\n",
       "      <td>0.2160</td>\n",
       "      <td>0.000169</td>\n",
       "      <td>1.6100</td>\n",
       "      <td>0.1720</td>\n",
       "      <td>0.0918</td>\n",
       "      <td>199.060</td>\n",
       "      <td>2.29960</td>\n",
       "      <td>4</td>\n",
       "      <td>10</td>\n",
       "    </tr>\n",
       "  </tbody>\n",
       "</table>\n",
       "</div>"
      ],
      "text/plain": [
       "   Popularity  danceability  energy   key  loudness  mode  speechiness  \\\n",
       "0        0.60         0.854   0.564   1.0    -4.964     1       0.0485   \n",
       "1        0.54         0.382   0.814   3.0    -7.230     1       0.0406   \n",
       "2        0.35         0.434   0.614   6.0    -8.334     1       0.0525   \n",
       "3        0.66         0.853   0.597  10.0    -6.528     0       0.0555   \n",
       "4        0.53         0.167   0.975   2.0    -4.279     1       0.2160   \n",
       "\n",
       "   acousticness  instrumentalness  liveness  valence    tempo  \\\n",
       "0      0.017100            0.0000    0.0849   0.8990  134.071   \n",
       "1      0.001100            0.4010    0.1010   0.5690  116.454   \n",
       "2      0.486000            0.0196    0.3940   0.7870  147.681   \n",
       "3      0.021200            0.0000    0.1220   0.5690  107.033   \n",
       "4      0.000169            1.6100    0.1720   0.0918  199.060   \n",
       "\n",
       "   duration_in min/ms  time_signature  Class  \n",
       "0             2.34596               4      5  \n",
       "1             2.51733               4     10  \n",
       "2             1.09667               4      6  \n",
       "3             1.73968               4      5  \n",
       "4             2.29960               4     10  "
      ]
     },
     "execution_count": 16,
     "metadata": {},
     "output_type": "execute_result"
    }
   ],
   "source": [
    "df.head()"
   ]
  },
  {
   "cell_type": "code",
   "execution_count": 17,
   "metadata": {},
   "outputs": [],
   "source": [
    "# importing scikit to splip data\n",
    "from sklearn.model_selection import train_test_split"
   ]
  },
  {
   "cell_type": "code",
   "execution_count": 18,
   "metadata": {},
   "outputs": [],
   "source": [
    "X_train, X_test, Y_train, Y_test = train_test_split(df[['Popularity','danceability','energy','key','loudness','mode','speechiness','acousticness','instrumentalness','liveness','valence','tempo','duration_in min/ms','time_signature']],df.Class,train_size=0.8)"
   ]
  },
  {
   "cell_type": "code",
   "execution_count": 19,
   "metadata": {},
   "outputs": [
    {
     "data": {
      "text/html": [
       "<div>\n",
       "<style scoped>\n",
       "    .dataframe tbody tr th:only-of-type {\n",
       "        vertical-align: middle;\n",
       "    }\n",
       "\n",
       "    .dataframe tbody tr th {\n",
       "        vertical-align: top;\n",
       "    }\n",
       "\n",
       "    .dataframe thead th {\n",
       "        text-align: right;\n",
       "    }\n",
       "</style>\n",
       "<table border=\"1\" class=\"dataframe\">\n",
       "  <thead>\n",
       "    <tr style=\"text-align: right;\">\n",
       "      <th></th>\n",
       "      <th>Popularity</th>\n",
       "      <th>danceability</th>\n",
       "      <th>energy</th>\n",
       "      <th>key</th>\n",
       "      <th>loudness</th>\n",
       "      <th>mode</th>\n",
       "      <th>speechiness</th>\n",
       "      <th>acousticness</th>\n",
       "      <th>instrumentalness</th>\n",
       "      <th>liveness</th>\n",
       "      <th>valence</th>\n",
       "      <th>tempo</th>\n",
       "      <th>duration_in min/ms</th>\n",
       "      <th>time_signature</th>\n",
       "    </tr>\n",
       "  </thead>\n",
       "  <tbody>\n",
       "    <tr>\n",
       "      <th>16382</th>\n",
       "      <td>0.50</td>\n",
       "      <td>0.260</td>\n",
       "      <td>0.998</td>\n",
       "      <td>4.0</td>\n",
       "      <td>-2.844</td>\n",
       "      <td>1</td>\n",
       "      <td>0.1600</td>\n",
       "      <td>0.000728</td>\n",
       "      <td>1.870000</td>\n",
       "      <td>0.141</td>\n",
       "      <td>0.447</td>\n",
       "      <td>194.788</td>\n",
       "      <td>1.29387</td>\n",
       "      <td>4</td>\n",
       "    </tr>\n",
       "    <tr>\n",
       "      <th>14535</th>\n",
       "      <td>0.55</td>\n",
       "      <td>0.638</td>\n",
       "      <td>0.705</td>\n",
       "      <td>8.0</td>\n",
       "      <td>-4.499</td>\n",
       "      <td>1</td>\n",
       "      <td>0.0406</td>\n",
       "      <td>0.017800</td>\n",
       "      <td>0.000000</td>\n",
       "      <td>0.124</td>\n",
       "      <td>0.503</td>\n",
       "      <td>160.070</td>\n",
       "      <td>1.95199</td>\n",
       "      <td>4</td>\n",
       "    </tr>\n",
       "    <tr>\n",
       "      <th>11871</th>\n",
       "      <td>0.66</td>\n",
       "      <td>0.884</td>\n",
       "      <td>0.639</td>\n",
       "      <td>1.0</td>\n",
       "      <td>-6.832</td>\n",
       "      <td>0</td>\n",
       "      <td>0.2460</td>\n",
       "      <td>0.111000</td>\n",
       "      <td>0.000166</td>\n",
       "      <td>0.608</td>\n",
       "      <td>0.625</td>\n",
       "      <td>100.049</td>\n",
       "      <td>1.42176</td>\n",
       "      <td>4</td>\n",
       "    </tr>\n",
       "    <tr>\n",
       "      <th>2243</th>\n",
       "      <td>0.80</td>\n",
       "      <td>0.727</td>\n",
       "      <td>0.974</td>\n",
       "      <td>4.0</td>\n",
       "      <td>-2.261</td>\n",
       "      <td>0</td>\n",
       "      <td>0.0664</td>\n",
       "      <td>0.103000</td>\n",
       "      <td>0.053200</td>\n",
       "      <td>0.174</td>\n",
       "      <td>0.965</td>\n",
       "      <td>79.526</td>\n",
       "      <td>2.35213</td>\n",
       "      <td>4</td>\n",
       "    </tr>\n",
       "    <tr>\n",
       "      <th>3207</th>\n",
       "      <td>0.31</td>\n",
       "      <td>0.878</td>\n",
       "      <td>0.460</td>\n",
       "      <td>8.0</td>\n",
       "      <td>-11.155</td>\n",
       "      <td>1</td>\n",
       "      <td>0.7010</td>\n",
       "      <td>0.227000</td>\n",
       "      <td>0.000000</td>\n",
       "      <td>0.081</td>\n",
       "      <td>0.937</td>\n",
       "      <td>82.003</td>\n",
       "      <td>1.83597</td>\n",
       "      <td>4</td>\n",
       "    </tr>\n",
       "  </tbody>\n",
       "</table>\n",
       "</div>"
      ],
      "text/plain": [
       "       Popularity  danceability  energy  key  loudness  mode  speechiness  \\\n",
       "16382        0.50         0.260   0.998  4.0    -2.844     1       0.1600   \n",
       "14535        0.55         0.638   0.705  8.0    -4.499     1       0.0406   \n",
       "11871        0.66         0.884   0.639  1.0    -6.832     0       0.2460   \n",
       "2243         0.80         0.727   0.974  4.0    -2.261     0       0.0664   \n",
       "3207         0.31         0.878   0.460  8.0   -11.155     1       0.7010   \n",
       "\n",
       "       acousticness  instrumentalness  liveness  valence    tempo  \\\n",
       "16382      0.000728          1.870000     0.141    0.447  194.788   \n",
       "14535      0.017800          0.000000     0.124    0.503  160.070   \n",
       "11871      0.111000          0.000166     0.608    0.625  100.049   \n",
       "2243       0.103000          0.053200     0.174    0.965   79.526   \n",
       "3207       0.227000          0.000000     0.081    0.937   82.003   \n",
       "\n",
       "       duration_in min/ms  time_signature  \n",
       "16382             1.29387               4  \n",
       "14535             1.95199               4  \n",
       "11871             1.42176               4  \n",
       "2243              2.35213               4  \n",
       "3207              1.83597               4  "
      ]
     },
     "execution_count": 19,
     "metadata": {},
     "output_type": "execute_result"
    }
   ],
   "source": [
    "X_train.head()"
   ]
  },
  {
   "cell_type": "code",
   "execution_count": 20,
   "metadata": {},
   "outputs": [
    {
     "data": {
      "text/plain": [
       "16382    8\n",
       "14535    9\n",
       "11871    5\n",
       "2243     5\n",
       "3207     9\n",
       "Name: Class, dtype: int64"
      ]
     },
     "execution_count": 20,
     "metadata": {},
     "output_type": "execute_result"
    }
   ],
   "source": [
    "Y_train.head()"
   ]
  },
  {
   "cell_type": "code",
   "execution_count": 23,
   "metadata": {},
   "outputs": [
    {
     "name": "stdout",
     "output_type": "stream",
     "text": [
      "Epoch 1/30\n",
      "450/450 [==============================] - 18s 38ms/step - loss: 2.0577 - accuracy: 0.3027\n",
      "Epoch 2/30\n",
      "450/450 [==============================] - 17s 38ms/step - loss: 1.7003 - accuracy: 0.3536\n",
      "Epoch 3/30\n",
      "450/450 [==============================] - 18s 39ms/step - loss: 1.6056 - accuracy: 0.3744\n",
      "Epoch 4/30\n",
      "450/450 [==============================] - 19s 42ms/step - loss: 1.5339 - accuracy: 0.4059\n",
      "Epoch 5/30\n",
      "450/450 [==============================] - 21s 47ms/step - loss: 1.4864 - accuracy: 0.4240\n",
      "Epoch 6/30\n",
      "450/450 [==============================] - 16s 36ms/step - loss: 1.4563 - accuracy: 0.4368\n",
      "Epoch 7/30\n",
      "450/450 [==============================] - 15s 33ms/step - loss: 1.4351 - accuracy: 0.4464\n",
      "Epoch 8/30\n",
      "450/450 [==============================] - 15s 34ms/step - loss: 1.4136 - accuracy: 0.4553\n",
      "Epoch 9/30\n",
      "450/450 [==============================] - 15s 33ms/step - loss: 1.3969 - accuracy: 0.4663\n",
      "Epoch 10/30\n",
      "450/450 [==============================] - 15s 34ms/step - loss: 1.3921 - accuracy: 0.4692\n",
      "Epoch 11/30\n",
      "450/450 [==============================] - 15s 33ms/step - loss: 1.3912 - accuracy: 0.4674\n",
      "Epoch 12/30\n",
      "450/450 [==============================] - 15s 34ms/step - loss: 1.3704 - accuracy: 0.4792\n",
      "Epoch 13/30\n",
      "450/450 [==============================] - 15s 34ms/step - loss: 1.3584 - accuracy: 0.4828\n",
      "Epoch 14/30\n",
      "450/450 [==============================] - 15s 33ms/step - loss: 1.3489 - accuracy: 0.4881\n",
      "Epoch 15/30\n",
      "450/450 [==============================] - 15s 33ms/step - loss: 1.3558 - accuracy: 0.4863\n",
      "Epoch 16/30\n",
      "450/450 [==============================] - 15s 33ms/step - loss: 1.3377 - accuracy: 0.4883\n",
      "Epoch 17/30\n",
      "450/450 [==============================] - 15s 33ms/step - loss: 1.3345 - accuracy: 0.4991\n",
      "Epoch 18/30\n",
      "450/450 [==============================] - 16s 36ms/step - loss: 1.3255 - accuracy: 0.4937\n",
      "Epoch 19/30\n",
      "450/450 [==============================] - 16s 35ms/step - loss: 1.3188 - accuracy: 0.4981\n",
      "Epoch 20/30\n",
      "450/450 [==============================] - 15s 33ms/step - loss: 1.3071 - accuracy: 0.5017\n",
      "Epoch 21/30\n",
      "450/450 [==============================] - 18s 40ms/step - loss: 1.3082 - accuracy: 0.5042\n",
      "Epoch 22/30\n",
      "450/450 [==============================] - 17s 37ms/step - loss: 1.3082 - accuracy: 0.5026\n",
      "Epoch 23/30\n",
      "450/450 [==============================] - 15s 34ms/step - loss: 1.2961 - accuracy: 0.5056\n",
      "Epoch 24/30\n",
      "450/450 [==============================] - 15s 34ms/step - loss: 1.2917 - accuracy: 0.5106\n",
      "Epoch 25/30\n",
      "450/450 [==============================] - 18s 39ms/step - loss: 1.2854 - accuracy: 0.5129\n",
      "Epoch 26/30\n",
      "450/450 [==============================] - 17s 38ms/step - loss: 1.2794 - accuracy: 0.5138\n",
      "Epoch 27/30\n",
      "450/450 [==============================] - 17s 38ms/step - loss: 1.2748 - accuracy: 0.5108\n",
      "Epoch 28/30\n",
      "450/450 [==============================] - 17s 38ms/step - loss: 1.2725 - accuracy: 0.5126\n",
      "Epoch 29/30\n",
      "450/450 [==============================] - 17s 38ms/step - loss: 1.2668 - accuracy: 0.5194\n",
      "Epoch 30/30\n",
      "450/450 [==============================] - 20s 45ms/step - loss: 1.2539 - accuracy: 0.5189\n"
     ]
    },
    {
     "data": {
      "text/plain": [
       "<keras.callbacks.History at 0x2a5c40756d0>"
      ]
     },
     "execution_count": 23,
     "metadata": {},
     "output_type": "execute_result"
    }
   ],
   "source": [
    "# artificial neural network model for the training set\n",
    "# 5 layers of 1000 neurons each with activation as rectified linear unit\n",
    "# last layer has 11 neurons to signify the 11 classes of music with activation sigmoid\n",
    "\n",
    "model = keras.Sequential([\n",
    "\n",
    "    keras.layers.Dense(1000,activation='relu'),\n",
    "    keras.layers.Dense(1000, activation='relu'),\n",
    "    keras.layers.Dense(1000, activation='relu'),\n",
    "    keras.layers.Dense(1000, activation='relu'),\n",
    "    keras.layers.Dense(500, activation='relu'),\n",
    "    keras.layers.Dense(11, activation='sigmoid')\n",
    "])\n",
    "\n",
    "# loss function used is sparse_categorical_crossentropy as we are dealing with index of the Class column and not a one hot array\n",
    "\n",
    "model.compile(optimizer='adam',\n",
    "              loss='sparse_categorical_crossentropy',\n",
    "              metrics=['accuracy'])\n",
    "\n",
    "model.fit(X_train, Y_train, epochs=30)"
   ]
  },
  {
   "cell_type": "code",
   "execution_count": 24,
   "metadata": {},
   "outputs": [
    {
     "name": "stdout",
     "output_type": "stream",
     "text": [
      "113/113 [==============================] - 1s 9ms/step - loss: 1.2951 - accuracy: 0.5067\n"
     ]
    },
    {
     "data": {
      "text/plain": [
       "[1.295110821723938, 0.5066666603088379]"
      ]
     },
     "execution_count": 24,
     "metadata": {},
     "output_type": "execute_result"
    }
   ],
   "source": [
    "# evaluating the test set \n",
    "model.evaluate(X_test, Y_test)"
   ]
  }
 ],
 "metadata": {
  "kernelspec": {
   "display_name": "Python 3.9.6 64-bit",
   "language": "python",
   "name": "python3"
  },
  "language_info": {
   "codemirror_mode": {
    "name": "ipython",
    "version": 3
   },
   "file_extension": ".py",
   "mimetype": "text/x-python",
   "name": "python",
   "nbconvert_exporter": "python",
   "pygments_lexer": "ipython3",
   "version": "3.9.6"
  },
  "orig_nbformat": 4,
  "vscode": {
   "interpreter": {
    "hash": "e3c29b6da4efe1853c210f76e34a87799f400eb311cab34e4d9422e3a74bbd6b"
   }
  }
 },
 "nbformat": 4,
 "nbformat_minor": 2
}
